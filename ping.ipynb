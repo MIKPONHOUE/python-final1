{
 "cells": [
  {
   "cell_type": "code",
   "execution_count": 22,
   "metadata": {
    "collapsed": true
   },
   "outputs": [],
   "source": [
    "#importons la librairie panda\n",
    "\n",
    "import pandas as pd"
   ]
  },
  {
   "cell_type": "code",
   "execution_count": 2,
   "metadata": {
    "collapsed": true
   },
   "outputs": [],
   "source": [
    "#importons la librairie numpy\n",
    "import numpy as np"
   ]
  },
  {
   "cell_type": "code",
   "execution_count": 3,
   "metadata": {
    "collapsed": true
   },
   "outputs": [],
   "source": [
    "#importons la librairie matpotlib.pyplot\n",
    "import matplotlib.pyplot as plt"
   ]
  },
  {
   "cell_type": "code",
   "execution_count": 10,
   "metadata": {
    "collapsed": false
   },
   "outputs": [],
   "source": [
    "a=pd.Series(['Information des systemes numeriques','Big Data pour la transformation  numerique','ingenierie affaire en energie et signaux','genie electrique et transport'],index=['ISN','BDTN','IADES','GET'])"
   ]
  },
  {
   "cell_type": "code",
   "execution_count": 11,
   "metadata": {
    "collapsed": false
   },
   "outputs": [
    {
     "data": {
      "text/plain": [
       "ISN             Information des systemes numeriques\n",
       "BDTN     Big Data pour la transformation  numerique\n",
       "IADES      ingenierie affaire en energie et signaux\n",
       "GET                   genie electrique et transport\n",
       "dtype: object"
      ]
     },
     "execution_count": 11,
     "metadata": {},
     "output_type": "execute_result"
    }
   ],
   "source": [
    "a"
   ]
  },
  {
   "cell_type": "code",
   "execution_count": 62,
   "metadata": {
    "collapsed": false
   },
   "outputs": [
    {
     "data": {
      "text/plain": [
       "ISN      TIC\n",
       "BDTN     TIC\n",
       "IADES    GEE\n",
       "GET      GEE\n",
       "dtype: object"
      ]
     },
     "execution_count": 62,
     "metadata": {},
     "output_type": "execute_result"
    }
   ],
   "source": [
    "b"
   ]
  },
  {
   "cell_type": "code",
   "execution_count": 70,
   "metadata": {
    "collapsed": false
   },
   "outputs": [
    {
     "data": {
      "text/html": [
       "<div>\n",
       "<table border=\"1\" class=\"dataframe\">\n",
       "  <thead>\n",
       "    <tr style=\"text-align: right;\">\n",
       "      <th></th>\n",
       "      <th>departement</th>\n",
       "      <th>sigle</th>\n",
       "    </tr>\n",
       "  </thead>\n",
       "  <tbody>\n",
       "    <tr>\n",
       "      <th>ISN</th>\n",
       "      <td>TIC</td>\n",
       "      <td>Information des systemes numeriques</td>\n",
       "    </tr>\n",
       "    <tr>\n",
       "      <th>BDTN</th>\n",
       "      <td>TIC</td>\n",
       "      <td>Big Data pour la transformation  numerique</td>\n",
       "    </tr>\n",
       "    <tr>\n",
       "      <th>IADES</th>\n",
       "      <td>GEE</td>\n",
       "      <td>ingenierie affaire en energie et signaux</td>\n",
       "    </tr>\n",
       "    <tr>\n",
       "      <th>GET</th>\n",
       "      <td>GEE</td>\n",
       "      <td>genie electrique et transport</td>\n",
       "    </tr>\n",
       "  </tbody>\n",
       "</table>\n",
       "</div>"
      ],
      "text/plain": [
       "      departement                                       sigle\n",
       "ISN           TIC         Information des systemes numeriques\n",
       "BDTN          TIC  Big Data pour la transformation  numerique\n",
       "IADES         GEE    ingenierie affaire en energie et signaux\n",
       "GET           GEE               genie electrique et transport"
      ]
     },
     "execution_count": 70,
     "metadata": {},
     "output_type": "execute_result"
    }
   ],
   "source": [
    "dfa=pd.DataFrame({'sigle':a,\n",
    "                  'departement':pd.Series(['TIC','TIC','GEE','GEE'])})\n",
    "dfa"
   ]
  },
  {
   "cell_type": "code",
   "execution_count": 103,
   "metadata": {
    "collapsed": false
   },
   "outputs": [
    {
     "data": {
      "text/html": [
       "<div>\n",
       "<table border=\"1\" class=\"dataframe\">\n",
       "  <thead>\n",
       "    <tr style=\"text-align: right;\">\n",
       "      <th></th>\n",
       "      <th>Nom</th>\n",
       "      <th>Prenom</th>\n",
       "      <th>code dominante</th>\n",
       "    </tr>\n",
       "  </thead>\n",
       "  <tbody>\n",
       "    <tr>\n",
       "      <th>0</th>\n",
       "      <td>MIKPONHOUE</td>\n",
       "      <td>Yann</td>\n",
       "      <td>BDTN</td>\n",
       "    </tr>\n",
       "    <tr>\n",
       "      <th>1</th>\n",
       "      <td>JOUJOUTE</td>\n",
       "      <td>JB</td>\n",
       "      <td>BDTN</td>\n",
       "    </tr>\n",
       "    <tr>\n",
       "      <th>2</th>\n",
       "      <td>HOUNSONLON</td>\n",
       "      <td>Maickel</td>\n",
       "      <td>GET</td>\n",
       "    </tr>\n",
       "    <tr>\n",
       "      <th>3</th>\n",
       "      <td>ARNAUD</td>\n",
       "      <td>Alex</td>\n",
       "      <td>IADES</td>\n",
       "    </tr>\n",
       "    <tr>\n",
       "      <th>4</th>\n",
       "      <td>DA SILVA</td>\n",
       "      <td>Sahobane</td>\n",
       "      <td>ISN</td>\n",
       "    </tr>\n",
       "    <tr>\n",
       "      <th>5</th>\n",
       "      <td>TAMBOURA</td>\n",
       "      <td>Aida</td>\n",
       "      <td>BDTN</td>\n",
       "    </tr>\n",
       "  </tbody>\n",
       "</table>\n",
       "</div>"
      ],
      "text/plain": [
       "          Nom    Prenom code dominante\n",
       "0  MIKPONHOUE      Yann           BDTN\n",
       "1    JOUJOUTE        JB           BDTN\n",
       "2  HOUNSONLON   Maickel            GET\n",
       "3      ARNAUD      Alex          IADES\n",
       "4    DA SILVA  Sahobane            ISN\n",
       "5    TAMBOURA      Aida           BDTN"
      ]
     },
     "execution_count": 103,
     "metadata": {},
     "output_type": "execute_result"
    }
   ],
   "source": [
    "df = pd.DataFrame({ 'Nom' : pd.Series([\"MIKPONHOUE\",\"JOUJOUTE\",\"HOUNSONLON\",\"ARNAUD\",\"DA SILVA\",\"TAMBOURA\"]),\n",
    "                     'Prenom' : pd.Series([\"Yann\",\"JB\",\"Maickel\",\"Alex\",\"Sahobane\",\"Aida\"]),\n",
    "                     'code dominante' : pd.Series([\"BDTN\",\"BDTN\",\"GET\",\"IADES\",\"ISN\",\"BDTN\"])\n",
    "             })\n",
    "df"
   ]
  },
  {
   "cell_type": "code",
   "execution_count": 104,
   "metadata": {
    "collapsed": false
   },
   "outputs": [
    {
     "data": {
      "text/html": [
       "<div>\n",
       "<table border=\"1\" class=\"dataframe\">\n",
       "  <thead>\n",
       "    <tr style=\"text-align: right;\">\n",
       "      <th></th>\n",
       "      <th>Nom</th>\n",
       "      <th>Prenom</th>\n",
       "      <th>code dominante</th>\n",
       "      <th>Departement</th>\n",
       "    </tr>\n",
       "  </thead>\n",
       "  <tbody>\n",
       "    <tr>\n",
       "      <th>0</th>\n",
       "      <td>MIKPONHOUE</td>\n",
       "      <td>Yann</td>\n",
       "      <td>BDTN</td>\n",
       "      <td>TIC</td>\n",
       "    </tr>\n",
       "    <tr>\n",
       "      <th>1</th>\n",
       "      <td>JOUJOUTE</td>\n",
       "      <td>JB</td>\n",
       "      <td>BDTN</td>\n",
       "      <td>TIC</td>\n",
       "    </tr>\n",
       "    <tr>\n",
       "      <th>2</th>\n",
       "      <td>HOUNSONLON</td>\n",
       "      <td>Maickel</td>\n",
       "      <td>GET</td>\n",
       "      <td>GEE</td>\n",
       "    </tr>\n",
       "    <tr>\n",
       "      <th>3</th>\n",
       "      <td>ARNAUD</td>\n",
       "      <td>Alex</td>\n",
       "      <td>IADES</td>\n",
       "      <td>GEE</td>\n",
       "    </tr>\n",
       "    <tr>\n",
       "      <th>4</th>\n",
       "      <td>DA SILVA</td>\n",
       "      <td>Sahobane</td>\n",
       "      <td>ISN</td>\n",
       "      <td>TIC</td>\n",
       "    </tr>\n",
       "    <tr>\n",
       "      <th>5</th>\n",
       "      <td>TAMBOURA</td>\n",
       "      <td>Aida</td>\n",
       "      <td>BDTN</td>\n",
       "      <td>TIC</td>\n",
       "    </tr>\n",
       "  </tbody>\n",
       "</table>\n",
       "</div>"
      ],
      "text/plain": [
       "          Nom    Prenom code dominante Departement\n",
       "0  MIKPONHOUE      Yann           BDTN         TIC\n",
       "1    JOUJOUTE        JB           BDTN         TIC\n",
       "2  HOUNSONLON   Maickel            GET         GEE\n",
       "3      ARNAUD      Alex          IADES         GEE\n",
       "4    DA SILVA  Sahobane            ISN         TIC\n",
       "5    TAMBOURA      Aida           BDTN         TIC"
      ]
     },
     "execution_count": 104,
     "metadata": {},
     "output_type": "execute_result"
    }
   ],
   "source": [
    "df2=df.copy()\n",
    "df2['Departement'] = pd.Series([\"TIC\",\"TIC\",\"GEE\",\"GEE\",\"TIC\",\"TIC\"])\n",
    "df2"
   ]
  },
  {
   "cell_type": "code",
   "execution_count": 108,
   "metadata": {
    "collapsed": false
   },
   "outputs": [
    {
     "data": {
      "text/plain": [
       "Departement\n",
       "GEE    0.333333\n",
       "TIC    0.666667\n",
       "dtype: float64"
      ]
     },
     "execution_count": 108,
     "metadata": {},
     "output_type": "execute_result"
    }
   ],
   "source": [
    "df2a=df2.groupby('Departement').size()/6\n",
    "df2a"
   ]
  },
  {
   "cell_type": "code",
   "execution_count": 112,
   "metadata": {
    "collapsed": false
   },
   "outputs": [
    {
     "data": {
      "text/html": [
       "<div>\n",
       "<table border=\"1\" class=\"dataframe\">\n",
       "  <thead>\n",
       "    <tr style=\"text-align: right;\">\n",
       "      <th></th>\n",
       "      <th>proportions</th>\n",
       "    </tr>\n",
       "    <tr>\n",
       "      <th>Departement</th>\n",
       "      <th></th>\n",
       "    </tr>\n",
       "  </thead>\n",
       "  <tbody>\n",
       "    <tr>\n",
       "      <th>GEE</th>\n",
       "      <td>0.333333</td>\n",
       "    </tr>\n",
       "    <tr>\n",
       "      <th>TIC</th>\n",
       "      <td>0.666667</td>\n",
       "    </tr>\n",
       "  </tbody>\n",
       "</table>\n",
       "</div>"
      ],
      "text/plain": [
       "             proportions\n",
       "Departement             \n",
       "GEE             0.333333\n",
       "TIC             0.666667"
      ]
     },
     "execution_count": 112,
     "metadata": {},
     "output_type": "execute_result"
    }
   ],
   "source": [
    "df3 = pd.DataFrame({'proportions': df2a })\n",
    "df3"
   ]
  },
  {
   "cell_type": "code",
   "execution_count": 98,
   "metadata": {
    "collapsed": false
   },
   "outputs": [],
   "source": [
    "df3.to_csv('oui')"
   ]
  }
 ],
 "metadata": {
  "anaconda-cloud": {},
  "kernelspec": {
   "display_name": "Python [default]",
   "language": "python",
   "name": "python3"
  },
  "language_info": {
   "codemirror_mode": {
    "name": "ipython",
    "version": 3
   },
   "file_extension": ".py",
   "mimetype": "text/x-python",
   "name": "python",
   "nbconvert_exporter": "python",
   "pygments_lexer": "ipython3",
   "version": "3.5.2"
  }
 },
 "nbformat": 4,
 "nbformat_minor": 1
}
