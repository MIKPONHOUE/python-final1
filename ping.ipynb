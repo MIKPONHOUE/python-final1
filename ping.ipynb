{
 "cells": [
  {
   "cell_type": "code",
   "execution_count": 58,
   "metadata": {
    "collapsed": true
   },
   "outputs": [],
   "source": [
    "#importons la librairie panda\n",
    "\n",
    "import pandas as pd"
   ]
  },
  {
   "cell_type": "code",
   "execution_count": 59,
   "metadata": {
    "collapsed": true
   },
   "outputs": [],
   "source": [
    "#importons la librairie numpy\n",
    "import numpy as np"
   ]
  },
  {
   "cell_type": "code",
   "execution_count": 65,
   "metadata": {
    "collapsed": true
   },
   "outputs": [],
   "source": [
    "#importons la librairie matpotlib.pyplot\n",
    "import matplotlib.pyplot as plt"
   ]
  },
  {
   "cell_type": "code",
   "execution_count": 66,
   "metadata": {
    "collapsed": false
   },
   "outputs": [],
   "source": [
    "s=pd.Series(['Information des systemes numeriques','Big Data pour la transformation  numerique','ingenierie affaire en energie et signaux','genie electrique et transport'],index=['ISN','BDTN','IADES','GET'])"
   ]
  },
  {
   "cell_type": "code",
   "execution_count": 67,
   "metadata": {
    "collapsed": false
   },
   "outputs": [
    {
     "data": {
      "text/plain": [
       "ISN             Information des systemes numeriques\n",
       "BDTN     Big Data pour la transformation  numerique\n",
       "IADES      ingenierie affaire en energie et signaux\n",
       "GET                   genie electrique et transport\n",
       "dtype: object"
      ]
     },
     "execution_count": 67,
     "metadata": {},
     "output_type": "execute_result"
    }
   ],
   "source": [
    "s"
   ]
  },
  {
   "cell_type": "code",
   "execution_count": null,
   "metadata": {
    "collapsed": false
   },
   "outputs": [],
   "source": [
    "#création de la dataframe"
   ]
  },
  {
   "cell_type": "code",
   "execution_count": 74,
   "metadata": {
    "collapsed": false
   },
   "outputs": [
    {
     "name": "stderr",
     "output_type": "stream",
     "text": [
      "C:\\Users\\ianmi\\Anaconda3\\lib\\site-packages\\pandas\\indexes\\range.py:409: RuntimeWarning: unorderable types: int() < str(), sort order is undefined for incomparable objects\n",
      "  return self._int64index.union(other)\n"
     ]
    }
   ],
   "source": [
    "dfa=pd.DataFrame({'sigle':s,\n",
    "                  'departement':pd.Series(['TIC','TIC','GEE','GEE'])})\n",
    "dfa"
   ]
  },
  {
   "cell_type": "code",
   "execution_count": 69,
   "metadata": {
    "collapsed": false
   },
   "outputs": [
    {
     "data": {
      "text/html": [
       "<div>\n",
       "<table border=\"1\" class=\"dataframe\">\n",
       "  <thead>\n",
       "    <tr style=\"text-align: right;\">\n",
       "      <th></th>\n",
       "      <th>Nom</th>\n",
       "      <th>Prenom</th>\n",
       "      <th>code dominante</th>\n",
       "    </tr>\n",
       "  </thead>\n",
       "  <tbody>\n",
       "    <tr>\n",
       "      <th>0</th>\n",
       "      <td>MIKPONHOUE</td>\n",
       "      <td>Yann</td>\n",
       "      <td>BDTN</td>\n",
       "    </tr>\n",
       "    <tr>\n",
       "      <th>1</th>\n",
       "      <td>JOUJOUTE</td>\n",
       "      <td>JB</td>\n",
       "      <td>BDTN</td>\n",
       "    </tr>\n",
       "    <tr>\n",
       "      <th>2</th>\n",
       "      <td>HOUNSONLON</td>\n",
       "      <td>Maickel</td>\n",
       "      <td>GET</td>\n",
       "    </tr>\n",
       "    <tr>\n",
       "      <th>3</th>\n",
       "      <td>ARNAUD</td>\n",
       "      <td>Alex</td>\n",
       "      <td>IADES</td>\n",
       "    </tr>\n",
       "    <tr>\n",
       "      <th>4</th>\n",
       "      <td>DA SILVA</td>\n",
       "      <td>Sahobane</td>\n",
       "      <td>ISN</td>\n",
       "    </tr>\n",
       "    <tr>\n",
       "      <th>5</th>\n",
       "      <td>TAMBOURA</td>\n",
       "      <td>Aida</td>\n",
       "      <td>BDTN</td>\n",
       "    </tr>\n",
       "  </tbody>\n",
       "</table>\n",
       "</div>"
      ],
      "text/plain": [
       "          Nom    Prenom code dominante\n",
       "0  MIKPONHOUE      Yann           BDTN\n",
       "1    JOUJOUTE        JB           BDTN\n",
       "2  HOUNSONLON   Maickel            GET\n",
       "3      ARNAUD      Alex          IADES\n",
       "4    DA SILVA  Sahobane            ISN\n",
       "5    TAMBOURA      Aida           BDTN"
      ]
     },
     "execution_count": 69,
     "metadata": {},
     "output_type": "execute_result"
    }
   ],
   "source": [
    "df = pd.DataFrame({ 'Nom' : pd.Series([\"MIKPONHOUE\",\"JOUJOUTE\",\"HOUNSONLON\",\"ARNAUD\",\"DA SILVA\",\"TAMBOURA\"]),\n",
    "                     'Prenom' : pd.Series([\"Yann\",\"JB\",\"Maickel\",\"Alex\",\"Sahobane\",\"Aida\"]),\n",
    "                     'code dominante' : pd.Series([\"BDTN\",\"BDTN\",\"GET\",\"IADES\",\"ISN\",\"BDTN\"])\n",
    "             })\n",
    "df"
   ]
  },
  {
   "cell_type": "code",
   "execution_count": 70,
   "metadata": {
    "collapsed": false
   },
   "outputs": [
    {
     "data": {
      "text/html": [
       "<div>\n",
       "<table border=\"1\" class=\"dataframe\">\n",
       "  <thead>\n",
       "    <tr style=\"text-align: right;\">\n",
       "      <th></th>\n",
       "      <th>Nom</th>\n",
       "      <th>Prenom</th>\n",
       "      <th>code dominante</th>\n",
       "      <th>Departement</th>\n",
       "    </tr>\n",
       "  </thead>\n",
       "  <tbody>\n",
       "    <tr>\n",
       "      <th>0</th>\n",
       "      <td>MIKPONHOUE</td>\n",
       "      <td>Yann</td>\n",
       "      <td>BDTN</td>\n",
       "      <td>TIC</td>\n",
       "    </tr>\n",
       "    <tr>\n",
       "      <th>1</th>\n",
       "      <td>JOUJOUTE</td>\n",
       "      <td>JB</td>\n",
       "      <td>BDTN</td>\n",
       "      <td>TIC</td>\n",
       "    </tr>\n",
       "    <tr>\n",
       "      <th>2</th>\n",
       "      <td>HOUNSONLON</td>\n",
       "      <td>Maickel</td>\n",
       "      <td>GET</td>\n",
       "      <td>GEE</td>\n",
       "    </tr>\n",
       "    <tr>\n",
       "      <th>3</th>\n",
       "      <td>ARNAUD</td>\n",
       "      <td>Alex</td>\n",
       "      <td>IADES</td>\n",
       "      <td>GEE</td>\n",
       "    </tr>\n",
       "    <tr>\n",
       "      <th>4</th>\n",
       "      <td>DA SILVA</td>\n",
       "      <td>Sahobane</td>\n",
       "      <td>ISN</td>\n",
       "      <td>TIC</td>\n",
       "    </tr>\n",
       "    <tr>\n",
       "      <th>5</th>\n",
       "      <td>TAMBOURA</td>\n",
       "      <td>Aida</td>\n",
       "      <td>BDTN</td>\n",
       "      <td>TIC</td>\n",
       "    </tr>\n",
       "  </tbody>\n",
       "</table>\n",
       "</div>"
      ],
      "text/plain": [
       "          Nom    Prenom code dominante Departement\n",
       "0  MIKPONHOUE      Yann           BDTN         TIC\n",
       "1    JOUJOUTE        JB           BDTN         TIC\n",
       "2  HOUNSONLON   Maickel            GET         GEE\n",
       "3      ARNAUD      Alex          IADES         GEE\n",
       "4    DA SILVA  Sahobane            ISN         TIC\n",
       "5    TAMBOURA      Aida           BDTN         TIC"
      ]
     },
     "execution_count": 70,
     "metadata": {},
     "output_type": "execute_result"
    }
   ],
   "source": [
    "df2=df.copy()\n",
    "df2['Departement'] = pd.Series([\"TIC\",\"TIC\",\"GEE\",\"GEE\",\"TIC\",\"TIC\"])\n",
    "df2"
   ]
  },
  {
   "cell_type": "code",
   "execution_count": 71,
   "metadata": {
    "collapsed": false
   },
   "outputs": [
    {
     "data": {
      "text/plain": [
       "Departement\n",
       "GEE    0.333333\n",
       "TIC    0.666667\n",
       "dtype: float64"
      ]
     },
     "execution_count": 71,
     "metadata": {},
     "output_type": "execute_result"
    }
   ],
   "source": [
    "df2a=df2.groupby('Departement').size()/6\n",
    "df2a"
   ]
  },
  {
   "cell_type": "code",
   "execution_count": 72,
   "metadata": {
    "collapsed": false
   },
   "outputs": [
    {
     "data": {
      "text/html": [
       "<div>\n",
       "<table border=\"1\" class=\"dataframe\">\n",
       "  <thead>\n",
       "    <tr style=\"text-align: right;\">\n",
       "      <th></th>\n",
       "      <th>proportions</th>\n",
       "    </tr>\n",
       "    <tr>\n",
       "      <th>Departement</th>\n",
       "      <th></th>\n",
       "    </tr>\n",
       "  </thead>\n",
       "  <tbody>\n",
       "    <tr>\n",
       "      <th>GEE</th>\n",
       "      <td>0.333333</td>\n",
       "    </tr>\n",
       "    <tr>\n",
       "      <th>TIC</th>\n",
       "      <td>0.666667</td>\n",
       "    </tr>\n",
       "  </tbody>\n",
       "</table>\n",
       "</div>"
      ],
      "text/plain": [
       "             proportions\n",
       "Departement             \n",
       "GEE             0.333333\n",
       "TIC             0.666667"
      ]
     },
     "execution_count": 72,
     "metadata": {},
     "output_type": "execute_result"
    }
   ],
   "source": [
    "df3 = pd.DataFrame({'proportions': df2a })\n",
    "df3"
   ]
  },
  {
   "cell_type": "code",
   "execution_count": 73,
   "metadata": {
    "collapsed": false
   },
   "outputs": [],
   "source": [
    "df3.to_csv('oui2')\n",
    "#importation en csv"
   ]
  },
  {
   "cell_type": "code",
   "execution_count": null,
   "metadata": {
    "collapsed": false
   },
   "outputs": [],
   "source": []
  },
  {
   "cell_type": "code",
   "execution_count": null,
   "metadata": {
    "collapsed": false
   },
   "outputs": [],
   "source": []
  },
  {
   "cell_type": "code",
   "execution_count": 75,
   "metadata": {
    "collapsed": false
   },
   "outputs": [],
   "source": [
    "#visualisation avec matplotlib"
   ]
  },
  {
   "cell_type": "code",
   "execution_count": 53,
   "metadata": {
    "collapsed": false
   },
   "outputs": [
    {
     "data": {
      "image/png": "[encoded data removed]",
      "text/plain": [
       "<matplotlib.figure.Figure at 0x26d362f9470>"
      ]
     },
     "metadata": {},
     "output_type": "display_data"
    }
   ],
   "source": [
    "ax = df3.plot(kind='bar', title =\"Repartition\",figsize=(7.5,5),legend=True,color = ['blue','green'], fontsize=12)"
   ]
  },
  {
   "cell_type": "code",
   "execution_count": 54,
   "metadata": {
    "collapsed": false
   },
   "outputs": [
    {
     "data": {
      "text/plain": [
       "([<matplotlib.patches.Wedge at 0x26d367ae080>,\n",
       "  <matplotlib.patches.Wedge at 0x26d367aec50>],\n",
       " [<matplotlib.text.Text at 0x26d367ae7f0>,\n",
       "  <matplotlib.text.Text at 0x26d367b3470>])"
      ]
     },
     "execution_count": 54,
     "metadata": {},
     "output_type": "execute_result"
    },
    {
     "data": {
      "image/png": "[encoded data removed]",
      "text/plain": [
       "<matplotlib.figure.Figure at 0x26d360306d8>"
      ]
     },
     "metadata": {},
     "output_type": "display_data"
    }
   ],
   "source": [
    "plt.pie(df3, labels = ['GEE', 'TIC'])"
   ]
  },
  {
   "cell_type": "code",
   "execution_count": null,
   "metadata": {
    "collapsed": false
   },
   "outputs": [],
   "source": []
  },
  {
   "cell_type": "code",
   "execution_count": null,
   "metadata": {
    "collapsed": false
   },
   "outputs": [],
   "source": []
  },
  {
   "cell_type": "code",
   "execution_count": null,
   "metadata": {
    "collapsed": true
   },
   "outputs": [],
   "source": []
  },
  {
   "cell_type": "code",
   "execution_count": null,
   "metadata": {
    "collapsed": true
   },
   "outputs": [],
   "source": []
  }
 ],
 "metadata": {
  "anaconda-cloud": {},
  "kernelspec": {
   "display_name": "Python [default]",
   "language": "python",
   "name": "python3"
  },
  "language_info": {
   "codemirror_mode": {
    "name": "ipython",
    "version": 3
   },
   "file_extension": ".py",
   "mimetype": "text/x-python",
   "name": "python",
   "nbconvert_exporter": "python",
   "pygments_lexer": "ipython3",
   "version": "3.5.2"
  }
 },
 "nbformat": 4,
 "nbformat_minor": 1
}
